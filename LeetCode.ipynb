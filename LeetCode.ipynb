{
 "cells": [
  {
   "cell_type": "markdown",
   "metadata": {},
   "source": [
    "# 1. Two Sum\n",
    "\n",
    "Given an array of integers, return **indices** of the two numbers such that they add up to a specific target.\n",
    "\n",
    "You may assume that each input would have **exactly** one solution, and you may not use the same element twice.\n",
    "\n",
    "**Example:**\n",
    "```\n",
    "Given nums = [2, 7, 11, 15], target = 9,\n",
    "\n",
    "Because nums[0] + nums[1] = 2 + 7 = 9,\n",
    "return [0, 1].\n",
    "```"
   ]
  },
  {
   "cell_type": "code",
   "execution_count": 1,
   "metadata": {
    "collapsed": true
   },
   "outputs": [],
   "source": [
    "class Solution:\n",
    "    def twoSum(self, nums, target):\n",
    "        \"\"\"\n",
    "        :type nums: List[int]\n",
    "        :type target: int\n",
    "        :rtype: List[int]\n",
    "        \"\"\"\n",
    "        for i in nums:\n",
    "            r = target - i\n",
    "            if (r in nums) and (r is not i):\n",
    "                return ([i,r])"
   ]
  },
  {
   "cell_type": "markdown",
   "metadata": {},
   "source": [
    "### Complexity Analysis\n",
    "\n",
    "**Time Complexity**: O(n^2)\n",
    "\n",
    "**Space Complexity**: O(1)"
   ]
  },
  {
   "cell_type": "code",
   "execution_count": 2,
   "metadata": {
    "collapsed": true
   },
   "outputs": [],
   "source": [
    "class Solution:\n",
    "    def twoSum(self, nums, target):\n",
    "        \"\"\"\n",
    "        :type nums: List[int]\n",
    "        :type target: int\n",
    "        :rtype: List[int]\n",
    "        \"\"\"\n",
    "        discovered = {}\n",
    "        for i, n in enumerate(nums):\n",
    "            r = target - n\n",
    "            if r in discovered:\n",
    "                return ([r, n])\n",
    "            else:\n",
    "                discovered[n] = i"
   ]
  },
  {
   "cell_type": "code",
   "execution_count": 3,
   "metadata": {},
   "outputs": [
    {
     "name": "stdout",
     "output_type": "stream",
     "text": [
      "[2, 7]\n"
     ]
    }
   ],
   "source": [
    "nums, target = [2,7,11,15], 9\n",
    "print(Solution().twoSum(nums=nums, target=target))"
   ]
  },
  {
   "cell_type": "markdown",
   "metadata": {},
   "source": [
    "### Complexity Analysis\n",
    "\n",
    "**Time Complexity**: O(n)\n",
    "\n",
    "**Space Complexity**: O(n)"
   ]
  },
  {
   "cell_type": "markdown",
   "metadata": {},
   "source": [
    "# 2. Add Two Numbers\n",
    "\n",
    "You are given two **non-empty** linked lists representing two non-negative integers. The digits are stored in **reverse order** and each of their nodes contain a single digit. Add the two numbers and return it as a linked list.\n",
    "\n",
    "You may assume the two numbers do not contain any leading zero, except the number 0 itself.\n",
    "\n",
    "**Example:**\n",
    "```\n",
    "Input: (2 -> 4 -> 3) + (5 -> 6 -> 4)\n",
    "Output: 7 -> 0 -> 8\n",
    "Explanation: 342 + 465 = 807.\n",
    "```"
   ]
  },
  {
   "cell_type": "code",
   "execution_count": 4,
   "metadata": {
    "collapsed": true
   },
   "outputs": [],
   "source": [
    "# Definition for singly-linked list.\n",
    "# class ListNode(object):\n",
    "#     def __init__(self, x):\n",
    "#         self.val = x\n",
    "#         self.next = None\n",
    "\n",
    "class Solution:\n",
    "    def addTwoNumbers(self, l1, l2):\n",
    "        \"\"\"\n",
    "        :type l1: ListNode\n",
    "        :type l2: ListNode\n",
    "        :rtype: ListNode\n",
    "        \"\"\"\n",
    "        \n",
    "        \n",
    "    def Int2ListNode(num):\n",
    "        NumLst = [int(n) for n in str(num)]\n",
    "        if len(NumLst) == 1:\n",
    "            return ListNode(NumLst[0])\n",
    "        else:\n",
    "            l = ListNode(NumLst[0])\n",
    "            l.next = Arr2LinkedList(NumLst[1:])\n",
    "            return l\n",
    "\n",
    "    def ReverseListNode(ll):\n",
    "        return 0"
   ]
  },
  {
   "cell_type": "code",
   "execution_count": 5,
   "metadata": {
    "collapsed": true
   },
   "outputs": [],
   "source": [
    "arr1 = [2,4,3,7]\n",
    "arr2 = [5,6,3]\n",
    "class ListNode:\n",
    "    def __init__(self, x):\n",
    "        self.val = x\n",
    "        self.next = None\n",
    "        \n",
    "def Arr2LinkedList(arr):\n",
    "    if len(arr) == 1:\n",
    "        return ListNode(arr[0])\n",
    "    else:\n",
    "        l = ListNode(arr[0])\n",
    "        l.next = Arr2LinkedList(arr[1:])\n",
    "        return l\n",
    "l1 = Arr2LinkedList(arr1)\n",
    "l2 = Arr2LinkedList(arr2)"
   ]
  },
  {
   "cell_type": "code",
   "execution_count": 6,
   "metadata": {
    "collapsed": true
   },
   "outputs": [],
   "source": [
    "def ReverseLList(ll):\n",
    "    prev = None\n",
    "    current = ll\n",
    "    while current.next is not None:\n",
    "        next = current.next\n",
    "        current.next = prev\n",
    "        prev = current\n",
    "        current = next\n",
    "    return prev"
   ]
  },
  {
   "cell_type": "code",
   "execution_count": 7,
   "metadata": {},
   "outputs": [
    {
     "name": "stdout",
     "output_type": "stream",
     "text": [
      "<__main__.ListNode object at 0x0000010559DBF6A0>\n"
     ]
    }
   ],
   "source": [
    "l = ReverseLList(l1)\n",
    "print(l)"
   ]
  },
  {
   "cell_type": "markdown",
   "metadata": {},
   "source": [
    "# 3. Longest Substring Without Repeating Characters\n",
    "\n",
    "Given a string, find the length of the **longest substring** without repeating characters.\n",
    "\n",
    "**Example 1:**\n",
    "\n",
    "**Input:** \"abcabcbb\"<br>\n",
    "**Output:** 3<br>\n",
    "**Explanation:** The answer is \"abc\", with the length of 3. \n",
    "\n",
    "**Example 2:**\n",
    "\n",
    "**Input:** \"bbbbb\"<br>\n",
    "**Output:** 1<br>\n",
    "**Explanation:** The answer is \"b\", with the length of 1.\n",
    "\n",
    "**Example 3:**\n",
    "\n",
    "**Input:** \"pwwkew\"<br>\n",
    "**Output:** 3<br>\n",
    "**Explanation:** The answer is \"wke\", with the length of 3. <br>\n",
    "> Note that the answer must be a **substring**, \"pwke\" is a *subsequence* and not a substring."
   ]
  },
  {
   "cell_type": "code",
   "execution_count": 8,
   "metadata": {
    "collapsed": true
   },
   "outputs": [],
   "source": [
    "class Solution:\n",
    "    def lengthOfLongestSubstring(self, s):\n",
    "        discovered = {}\n",
    "        counter = 0\n",
    "        for char in list(s):\n",
    "            if char in discovered:\n",
    "                if len(discovered) > counter: counter = len(discovered)\n",
    "                discovered = {}\n",
    "            discovered[char] = 1\n",
    "        return (counter)"
   ]
  },
  {
   "cell_type": "markdown",
   "metadata": {},
   "source": [
    "### Complexity Analysis\n",
    "\n",
    "**Time Complexity:** O(n) to run through the whole string as a list of char\n",
    "\n",
    "**Space Complexity:** O(n) due to the use of hash table to store the longest substring in a given string. o(m) where m is size of substring if substring is the longest in string"
   ]
  },
  {
   "cell_type": "markdown",
   "metadata": {},
   "source": [
    "# 4. Median of Two Sorted Arrays\n",
    "\n",
    "There are two sorted arrays **nums1** and **nums2** of size m and n respectively.\n",
    "\n",
    "Find the median of the two sorted arrays. The overall run time complexity should be O(log (m+n)).\n",
    "\n",
    "You may assume **nums1** and **nums2** cannot be both empty.\n",
    "\n",
    "Example 1:\n",
    "```\n",
    "nums1 = [1, 3]\n",
    "nums2 = [2]\n",
    "\n",
    "The median is 2.0\n",
    "```\n",
    "Example 2:\n",
    "```\n",
    "nums1 = [1, 2]\n",
    "nums2 = [3, 4]\n",
    "\n",
    "The median is (2 + 3)/2 = 2.5\n",
    "```"
   ]
  },
  {
   "cell_type": "code",
   "execution_count": 9,
   "metadata": {
    "collapsed": true
   },
   "outputs": [],
   "source": [
    "class Solution:\n",
    "    def findMedianSortedArrays(self, nums1, nums2):\n",
    "        return ((self.Median(nums1)+self.Median(nums2))/2)\n",
    "        \n",
    "    def Median(self, nums):\n",
    "        n = len(nums)\n",
    "        if n%2:\n",
    "            return nums[n//2]\n",
    "        else:\n",
    "            return int((nums[n//2-1]+ nums[n//2])/2)        "
   ]
  },
  {
   "cell_type": "code",
   "execution_count": 10,
   "metadata": {},
   "outputs": [
    {
     "name": "stdout",
     "output_type": "stream",
     "text": [
      "2.0\n"
     ]
    }
   ],
   "source": [
    "n1, n2 = [1,3], [2]\n",
    "print(Solution().findMedianSortedArrays(n1, n2))"
   ]
  },
  {
   "cell_type": "markdown",
   "metadata": {},
   "source": [
    "### Complexity Analysis\n",
    "\n",
    "Time Complexity: O(n)\n",
    "\n",
    "Space Complexity:O(n)"
   ]
  }
 ],
 "metadata": {
  "kernelspec": {
   "display_name": "Python 3",
   "language": "python",
   "name": "python3"
  },
  "language_info": {
   "codemirror_mode": {
    "name": "ipython",
    "version": 3
   },
   "file_extension": ".py",
   "mimetype": "text/x-python",
   "name": "python",
   "nbconvert_exporter": "python",
   "pygments_lexer": "ipython3",
   "version": "3.6.3"
  }
 },
 "nbformat": 4,
 "nbformat_minor": 2
}
